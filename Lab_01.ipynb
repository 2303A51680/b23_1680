{
  "nbformat": 4,
  "nbformat_minor": 0,
  "metadata": {
    "colab": {
      "provenance": [],
      "authorship_tag": "ABX9TyNlzYmZIOYMKLhm75cP8/EN",
      "include_colab_link": true
    },
    "kernelspec": {
      "name": "python3",
      "display_name": "Python 3"
    },
    "language_info": {
      "name": "python"
    }
  },
  "cells": [
    {
      "cell_type": "markdown",
      "metadata": {
        "id": "view-in-github",
        "colab_type": "text"
      },
      "source": [
        "<a href=\"https://colab.research.google.com/github/2303A51680/b23_1680/blob/main/Lab_01.ipynb\" target=\"_parent\"><img src=\"https://colab.research.google.com/assets/colab-badge.svg\" alt=\"Open In Colab\"/></a>"
      ]
    },
    {
      "cell_type": "code",
      "source": [
        "def factorial_recursive(n):\n",
        "  if n == 0 or n == 1:\n",
        "    return 1\n",
        "  else:\n",
        "    return n * factorial_recursive(n - 1)\n",
        "    num = int(input(\"Enter a number: \"))\n",
        "    if num < 0:\n",
        "      print(\"Factorial is not defined for negative numbers.\")\n",
        "    elif num > 10:\n",
        "      print(\"Please enter a number less than or equal to 10.\")\n",
        "    else:\n",
        "      print(factorial_recursive(num))\n",
        ""
      ],
      "metadata": {
        "id": "sE32r25SaV9e"
      },
      "execution_count": 6,
      "outputs": []
    }
  ]
}