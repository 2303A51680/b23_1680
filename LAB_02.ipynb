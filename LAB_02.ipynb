{
  "nbformat": 4,
  "nbformat_minor": 0,
  "metadata": {
    "colab": {
      "provenance": [],
      "authorship_tag": "ABX9TyPDFKEo0SC9mwHQdu4+lj/H",
      "include_colab_link": true
    },
    "kernelspec": {
      "name": "python3",
      "display_name": "Python 3"
    },
    "language_info": {
      "name": "python"
    }
  },
  "cells": [
    {
      "cell_type": "markdown",
      "metadata": {
        "id": "view-in-github",
        "colab_type": "text"
      },
      "source": [
        "<a href=\"https://colab.research.google.com/github/2303A51680/b23_1680/blob/main/LAB_02.ipynb\" target=\"_parent\"><img src=\"https://colab.research.google.com/assets/colab-badge.svg\" alt=\"Open In Colab\"/></a>"
      ]
    },
    {
      "cell_type": "code",
      "execution_count": 1,
      "metadata": {
        "id": "1DSmOLa42TCm"
      },
      "outputs": [],
      "source": [
        "import numpy as np"
      ]
    },
    {
      "cell_type": "code",
      "source": [
        "arr=np.array([[98,99,97],[89,87,94],[79,89,86]])\n",
        "print(arr)"
      ],
      "metadata": {
        "colab": {
          "base_uri": "https://localhost:8080/"
        },
        "id": "LjfVlVSQ2kGZ",
        "outputId": "e00f468a-63ea-48ac-8119-9ae49edeb932"
      },
      "execution_count": 2,
      "outputs": [
        {
          "output_type": "stream",
          "name": "stdout",
          "text": [
            "[[98 99 97]\n",
            " [89 87 94]\n",
            " [79 89 86]]\n"
          ]
        }
      ]
    },
    {
      "cell_type": "code",
      "source": [
        "for i in range(0,3):\n",
        "    print(arr[i])"
      ],
      "metadata": {
        "colab": {
          "base_uri": "https://localhost:8080/"
        },
        "id": "vPuDIFnz2qBk",
        "outputId": "69b82ca5-3db1-4134-c1f1-da0cb99db799"
      },
      "execution_count": 3,
      "outputs": [
        {
          "output_type": "stream",
          "name": "stdout",
          "text": [
            "[98 99 97]\n",
            "[89 87 94]\n",
            "[79 89 86]\n"
          ]
        }
      ]
    },
    {
      "cell_type": "code",
      "source": [
        "#Among all students\n",
        "total_avg=np.mean(arr)\n",
        "print(total_avg)\n",
        "maxi=np.max(arr)\n",
        "print(maxi)\n",
        "mini=np.min(arr)\n",
        "print(mini)"
      ],
      "metadata": {
        "colab": {
          "base_uri": "https://localhost:8080/"
        },
        "id": "i7xcaVFg2vQQ",
        "outputId": "30e7dfb3-40a5-4990-cf11-2dfd0d293f8b"
      },
      "execution_count": 4,
      "outputs": [
        {
          "output_type": "stream",
          "name": "stdout",
          "text": [
            "90.88888888888889\n",
            "99\n",
            "79\n"
          ]
        }
      ]
    },
    {
      "cell_type": "code",
      "source": [
        "#for each student\n",
        "average_per_student = np.mean(arr, axis=1)\n",
        "min_per_student = np.min(arr, axis=1)\n",
        "max_per_student = np.max(arr, axis=1)\n",
        "for i in range(len(arr)):\n",
        "    print(f\"Student {i+1}: Marks = {arr[i]}, Avg = {average_per_student[i]:.2f}, Min = {min_per_student[i]}, Max = {max_per_student[i]}\")"
      ],
      "metadata": {
        "colab": {
          "base_uri": "https://localhost:8080/"
        },
        "id": "5H724_Df25mp",
        "outputId": "8a81faea-f832-4f32-ed88-1411358edfd7"
      },
      "execution_count": 5,
      "outputs": [
        {
          "output_type": "stream",
          "name": "stdout",
          "text": [
            "Student 1: Marks = [98 99 97], Avg = 98.00, Min = 97, Max = 99\n",
            "Student 2: Marks = [89 87 94], Avg = 90.00, Min = 87, Max = 94\n",
            "Student 3: Marks = [79 89 86], Avg = 84.67, Min = 79, Max = 89\n"
          ]
        }
      ]
    },
    {
      "cell_type": "code",
      "source": [
        "print(\"\\nMarks of Student 2:\\n\", arr[1:2])"
      ],
      "metadata": {
        "colab": {
          "base_uri": "https://localhost:8080/"
        },
        "id": "CUb_SJqB3Cf4",
        "outputId": "e17f7a1f-0fd1-4f1f-a4d7-d1e17b321625"
      },
      "execution_count": 6,
      "outputs": [
        {
          "output_type": "stream",
          "name": "stdout",
          "text": [
            "\n",
            "Marks of Student 2:\n",
            " [[89 87 94]]\n"
          ]
        }
      ]
    },
    {
      "cell_type": "code",
      "source": [
        "above_80 = arr > 80\n",
        "print(\"\\n Boolean Array (Scores > 80):\\n\", above_80)"
      ],
      "metadata": {
        "colab": {
          "base_uri": "https://localhost:8080/"
        },
        "id": "vr32X57X3KWs",
        "outputId": "73f15de9-b7a5-43ca-dc81-158ae131e47a"
      },
      "execution_count": 7,
      "outputs": [
        {
          "output_type": "stream",
          "name": "stdout",
          "text": [
            "\n",
            " Boolean Array (Scores > 80):\n",
            " [[ True  True  True]\n",
            " [ True  True  True]\n",
            " [False  True  True]]\n"
          ]
        }
      ]
    },
    {
      "cell_type": "code",
      "source": [
        "subject_wise = arr.T\n",
        "print(\"\\n Subject-wise Performance (Rows = Subjects):\\n\", subject_wise)"
      ],
      "metadata": {
        "colab": {
          "base_uri": "https://localhost:8080/"
        },
        "id": "K-V-gfv73Pvq",
        "outputId": "8afdae1d-57b0-4eda-fa84-dba6092a327e"
      },
      "execution_count": 8,
      "outputs": [
        {
          "output_type": "stream",
          "name": "stdout",
          "text": [
            "\n",
            " Subject-wise Performance (Rows = Subjects):\n",
            " [[98 89 79]\n",
            " [99 87 89]\n",
            " [97 94 86]]\n"
          ]
        }
      ]
    }
  ]
}