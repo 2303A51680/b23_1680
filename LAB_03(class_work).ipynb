{
  "nbformat": 4,
  "nbformat_minor": 0,
  "metadata": {
    "colab": {
      "provenance": [],
      "authorship_tag": "ABX9TyM5D4aXAnT9op1fbXgWnrS+",
      "include_colab_link": true
    },
    "kernelspec": {
      "name": "python3",
      "display_name": "Python 3"
    },
    "language_info": {
      "name": "python"
    }
  },
  "cells": [
    {
      "cell_type": "markdown",
      "metadata": {
        "id": "view-in-github",
        "colab_type": "text"
      },
      "source": [
        "<a href=\"https://colab.research.google.com/github/2303A51680/b23_1680/blob/main/LAB_03(class_work).ipynb\" target=\"_parent\"><img src=\"https://colab.research.google.com/assets/colab-badge.svg\" alt=\"Open In Colab\"/></a>"
      ]
    },
    {
      "cell_type": "code",
      "source": [
        "fp=open('sample.txt','w')\n",
        "fp.write(\"hello\\n\")\n",
        "fp.write(\"hai\\n\")\n",
        "fp.write(\"this is file handling in python\\n\")\n",
        "fp.write(\"sr university\\n\")\n",
        "fp.write(\"Rishitha\\n\")\n",
        "fp.close()\n",
        "fp=open('sample.txt','r')\n",
        "for line in fp:\n",
        "    print(line)\n",
        "fp.close()"
      ],
      "metadata": {
        "colab": {
          "base_uri": "https://localhost:8080/"
        },
        "id": "NZcdPG_Y7eP1",
        "outputId": "660258e0-5e82-4323-a74d-f0cbd1400474"
      },
      "execution_count": 38,
      "outputs": [
        {
          "output_type": "stream",
          "name": "stdout",
          "text": [
            "hello\n",
            "\n",
            "hai\n",
            "\n",
            "this is file handling in python\n",
            "\n",
            "sr university\n",
            "\n",
            "Rishitha\n",
            "\n"
          ]
        }
      ]
    },
    {
      "cell_type": "code",
      "source": [
        "fp=open('sample.txt','r')\n",
        "info=fp.read()\n",
        "print(info)\n"
      ],
      "metadata": {
        "colab": {
          "base_uri": "https://localhost:8080/"
        },
        "id": "Rc-8Glv18MFV",
        "outputId": "d2bc126e-68fd-4cc1-acf1-f0532f96468c"
      },
      "execution_count": 53,
      "outputs": [
        {
          "output_type": "stream",
          "name": "stdout",
          "text": [
            "hello\n",
            "hai\n",
            "this is file handling in python\n",
            "sr university\n",
            "Rishitha\n",
            "appending new data...\n",
            "appending new data...\n",
            "\n"
          ]
        }
      ]
    },
    {
      "cell_type": "code",
      "source": [
        "file=open(\"sample.txt\",\"r\")\n",
        "line1=fp.readline()\n",
        "line2=fp.readline()\n",
        "print(\"first line:\",line)\n",
        "print(\"second line:\",line2)\n",
        "\n",
        "\n"
      ],
      "metadata": {
        "colab": {
          "base_uri": "https://localhost:8080/"
        },
        "id": "piLvIS8h9Yqf",
        "outputId": "6690204f-8126-46bd-d20f-a0343d48ea04"
      },
      "execution_count": 55,
      "outputs": [
        {
          "output_type": "stream",
          "name": "stdout",
          "text": [
            "first line: ['hello\\n', 'hai\\n', 'this is file handling in python\\n', 'sr university\\n', 'Rishitha\\n']\n",
            "second line: \n"
          ]
        }
      ]
    },
    {
      "cell_type": "code",
      "source": [
        "fp=open(\"sample.txt\",\"r\")\n",
        "lines=fp.readlines()\n",
        "print(\"all lines as list:\",lines)\n",
        "fp.close()"
      ],
      "metadata": {
        "colab": {
          "base_uri": "https://localhost:8080/"
        },
        "id": "jYqgD1Lf-yom",
        "outputId": "d730cd34-5347-4ea4-a913-690a1669a594"
      },
      "execution_count": 65,
      "outputs": [
        {
          "output_type": "stream",
          "name": "stdout",
          "text": [
            "all lines as list: ['hello\\n', 'hai\\n', 'this is file handling in python\\n', 'sr university\\n', 'Rishitha\\n', 'appending new data...\\n', 'appending new data...\\n', 'appending new data...\\n']\n"
          ]
        }
      ]
    },
    {
      "cell_type": "code",
      "source": [
        "fp=open(\"sample.txt\",\"a\")\n",
        "fp.write(\"appending new data...\\n\")\n",
        "fp.close()\n",
        "fp=open(\"sample.txt\",\"r\")\n",
        "print(fp.read())\n",
        "fp.close()"
      ],
      "metadata": {
        "colab": {
          "base_uri": "https://localhost:8080/"
        },
        "id": "libovhWn_Se3",
        "outputId": "a7d2f76e-2af6-4309-db32-fd9b93e14e86"
      },
      "execution_count": 68,
      "outputs": [
        {
          "output_type": "stream",
          "name": "stdout",
          "text": [
            "hello\n",
            "hai\n",
            "this is file handling in python\n",
            "sr university\n",
            "Rishitha\n",
            "appending new data...\n",
            "appending new data...\n",
            "appending new data...\n",
            "appending new data...\n",
            "appending new data...\n",
            "appending new data...\n",
            "\n"
          ]
        }
      ]
    },
    {
      "cell_type": "code",
      "source": [
        "import csv\n",
        "with open(\"data.csv\",\"w\",newline=\"\")as fp:\n",
        "  wr=csv.writer(fp)\n",
        "  wr.writerows([[\"Name\",\"Age\",\"Course\"],[\"jaya\",21,\"CSE\"],[\"vaibha\",20,\"ECE\"]])\n",
        "  from csv import reader\n",
        "  with open(\"data.csv\",\"r\")as fp:\n",
        "    rd=csv.reader(fp)\n",
        "    for row in rd:\n",
        "      print(row)"
      ],
      "metadata": {
        "id": "OikWv-V6BXy8"
      },
      "execution_count": 70,
      "outputs": []
    },
    {
      "cell_type": "code",
      "source": [
        "import numpy as np"
      ],
      "metadata": {
        "id": "N6HwCuszELRo"
      },
      "execution_count": 56,
      "outputs": []
    },
    {
      "cell_type": "markdown",
      "source": [
        "1D Array"
      ],
      "metadata": {
        "id": "2VLTdj_NFbWP"
      }
    },
    {
      "cell_type": "code",
      "source": [
        "arr1=np.array([1,2,3,4])\n",
        "print(\"1D Array:\",arr1)"
      ],
      "metadata": {
        "colab": {
          "base_uri": "https://localhost:8080/"
        },
        "id": "L4o4yHA1EQnI",
        "outputId": "faeb16fb-0efe-451a-e613-afdac23dd515"
      },
      "execution_count": 57,
      "outputs": [
        {
          "output_type": "stream",
          "name": "stdout",
          "text": [
            "1D Array: [1 2 3 4]\n"
          ]
        }
      ]
    },
    {
      "cell_type": "markdown",
      "source": [
        "2D Array"
      ],
      "metadata": {
        "id": "kjSNM5vjFgOJ"
      }
    },
    {
      "cell_type": "code",
      "source": [
        "arr2=np.array([[1,2,3],[4,5,6]])\n",
        "print(\"2D Array:\\n\",arr2)"
      ],
      "metadata": {
        "colab": {
          "base_uri": "https://localhost:8080/"
        },
        "id": "DA3Hr4ugEacx",
        "outputId": "1a1ef31d-64f6-4905-d60a-0bc7d2770749"
      },
      "execution_count": 58,
      "outputs": [
        {
          "output_type": "stream",
          "name": "stdout",
          "text": [
            "2D Array:\n",
            " [[1 2 3]\n",
            " [4 5 6]]\n"
          ]
        }
      ]
    },
    {
      "cell_type": "markdown",
      "source": [
        "Zeros Array"
      ],
      "metadata": {
        "id": "K56_DOugFjx_"
      }
    },
    {
      "cell_type": "code",
      "source": [
        "zeros_arr=np.zeros((3,3))\n",
        "print(\"Zeros Array:\\n\",zeros_arr)"
      ],
      "metadata": {
        "colab": {
          "base_uri": "https://localhost:8080/"
        },
        "id": "Zizgp_9yEmkA",
        "outputId": "37c3078a-72d6-4850-ad7d-b1503c595695"
      },
      "execution_count": 59,
      "outputs": [
        {
          "output_type": "stream",
          "name": "stdout",
          "text": [
            "Zeros Array:\n",
            " [[0. 0. 0.]\n",
            " [0. 0. 0.]\n",
            " [0. 0. 0.]]\n"
          ]
        }
      ]
    },
    {
      "cell_type": "markdown",
      "source": [
        "Ones Array"
      ],
      "metadata": {
        "id": "YYPmYVI2FnEy"
      }
    },
    {
      "cell_type": "code",
      "source": [
        "ones_arr=np.ones((2,4))\n",
        "print(\"Ones Array:\\n\",ones_arr)"
      ],
      "metadata": {
        "colab": {
          "base_uri": "https://localhost:8080/"
        },
        "id": "IYCWp6jtE0An",
        "outputId": "d6f4827e-3b9f-4513-e933-a235afa3bfc2"
      },
      "execution_count": 60,
      "outputs": [
        {
          "output_type": "stream",
          "name": "stdout",
          "text": [
            "Ones Array:\n",
            " [[1. 1. 1. 1.]\n",
            " [1. 1. 1. 1.]]\n"
          ]
        }
      ]
    },
    {
      "cell_type": "markdown",
      "source": [
        "Range of numbers"
      ],
      "metadata": {
        "id": "sSbgoGHzFp6V"
      }
    },
    {
      "cell_type": "code",
      "source": [
        "range_arr=np.arange(0,10,2)\n",
        "print(\"Range Array:\",range_arr)"
      ],
      "metadata": {
        "colab": {
          "base_uri": "https://localhost:8080/"
        },
        "id": "m8ppslOvE_Vr",
        "outputId": "e0cedbe2-683d-4e48-858f-e1a17319bfad"
      },
      "execution_count": 61,
      "outputs": [
        {
          "output_type": "stream",
          "name": "stdout",
          "text": [
            "Range Array: [0 2 4 6 8]\n"
          ]
        }
      ]
    },
    {
      "cell_type": "markdown",
      "source": [
        "Random Array"
      ],
      "metadata": {
        "id": "zOWNZy-4FsW9"
      }
    },
    {
      "cell_type": "code",
      "source": [
        "rand_arr=np.random.rand(2,3)\n",
        "print(\"Random Array:\\n\",rand_arr)"
      ],
      "metadata": {
        "colab": {
          "base_uri": "https://localhost:8080/"
        },
        "id": "1Mp5eMTKFNxg",
        "outputId": "27a2e0e1-020e-4727-ab49-6a1186ceed79"
      },
      "execution_count": 62,
      "outputs": [
        {
          "output_type": "stream",
          "name": "stdout",
          "text": [
            "Random Array:\n",
            " [[0.66601935 0.23981052 0.62353678]\n",
            " [0.08416819 0.27642138 0.58136328]]\n"
          ]
        }
      ]
    },
    {
      "cell_type": "markdown",
      "source": [
        "Array Attribute"
      ],
      "metadata": {
        "id": "p2ayoEQOHBLv"
      }
    },
    {
      "cell_type": "code",
      "source": [
        "arr=np.array([[1,2,3],[4,5,6]])\n",
        "print(\"Shape:\",arr.shape)           #roes,colums\n",
        "print(\"Dimension:\",arr.ndim)        #2D array\n",
        "\n",
        "print(\"Data Type:\",arr.dtype)       #int64 or float64\n",
        "print(\"Size:\",arr.size)             #Total elements\n",
        "print(\"Item Size:\",arr.itemsize)    #Bytes per element"
      ],
      "metadata": {
        "colab": {
          "base_uri": "https://localhost:8080/"
        },
        "id": "0l4HgZmhHDAO",
        "outputId": "5f0d3126-1fca-4cae-dc36-3c819eabdf22"
      },
      "execution_count": 72,
      "outputs": [
        {
          "output_type": "stream",
          "name": "stdout",
          "text": [
            "Shape: (2, 3)\n",
            "Dimension: 2\n",
            "Data Type: int64\n",
            "Size: 6\n",
            "Item Size: 8\n"
          ]
        }
      ]
    },
    {
      "cell_type": "markdown",
      "source": [
        "Array Insexing and Slicing"
      ],
      "metadata": {
        "id": "nge1fPQNKpbF"
      }
    },
    {
      "cell_type": "code",
      "source": [
        "arr=np.array([10,20,30,40,50])\n",
        "print(\"first elements:\",arr[0])\n",
        "print(\"last element:\",arr[-1])\n",
        "print(\"slice [1:4]):\",arr[1:4])\n",
        "print(\"every second element:\",arr[::2])"
      ],
      "metadata": {
        "colab": {
          "base_uri": "https://localhost:8080/"
        },
        "id": "xETyfy4KKsyM",
        "outputId": "5b8785e1-b58a-412a-8805-754dd67862b9"
      },
      "execution_count": 73,
      "outputs": [
        {
          "output_type": "stream",
          "name": "stdout",
          "text": [
            "first elements: 10\n",
            "last element: 50\n",
            "slice [1:4]): [20 30 40]\n",
            "every second element: [10 30 50]\n"
          ]
        }
      ]
    },
    {
      "cell_type": "markdown",
      "source": [
        "2D indexing"
      ],
      "metadata": {
        "id": "hGEmkGivLbDU"
      }
    },
    {
      "cell_type": "code",
      "source": [
        "arr2=np.array([[1,2,3],[4,5,6]])\n",
        "print(\"element at row 1, col 2:\",arr2[0,1])\n",
        "print(\"second roe:\",arr2[1,:])\n",
        "print(\"second column:\",arr2[:,1])"
      ],
      "metadata": {
        "colab": {
          "base_uri": "https://localhost:8080/"
        },
        "id": "mYxFN6bxLdTN",
        "outputId": "d577d593-e134-439f-8e42-9f11648832f9"
      },
      "execution_count": 75,
      "outputs": [
        {
          "output_type": "stream",
          "name": "stdout",
          "text": [
            "element at row 1, col 2: 2\n",
            "second roe: [4 5 6]\n",
            "second column: [2 5]\n"
          ]
        }
      ]
    },
    {
      "cell_type": "markdown",
      "source": [
        "Array Operations\n",
        "Arthmetic Operations"
      ],
      "metadata": {
        "id": "wKWcw0X6PsKC"
      }
    },
    {
      "cell_type": "code",
      "source": [
        "a=np.array([1,2,3])\n",
        "b=np.array([4,5,6])\n",
        "print(\"Addition:\",a+b)\n",
        "print(\"Subtraction:\",a-b)\n",
        "print(\"Multiplication:\",a*b)\n",
        "print(\"Division:\",a/b)\n",
        "print(\"Power:\",a**2)"
      ],
      "metadata": {
        "colab": {
          "base_uri": "https://localhost:8080/"
        },
        "id": "iP_eF4qoPzGo",
        "outputId": "2f5a6356-7a4a-4db8-a9b6-cb1efe416434"
      },
      "execution_count": 76,
      "outputs": [
        {
          "output_type": "stream",
          "name": "stdout",
          "text": [
            "Addition: [5 7 9]\n",
            "Subtraction: [-3 -3 -3]\n",
            "Multiplication: [ 4 10 18]\n",
            "Division: [0.25 0.4  0.5 ]\n",
            "Power: [1 4 9]\n"
          ]
        }
      ]
    },
    {
      "cell_type": "markdown",
      "source": [
        "Mathematical Functions"
      ],
      "metadata": {
        "id": "39zJGaxrQJcN"
      }
    },
    {
      "cell_type": "code",
      "source": [
        "arr=np.array([0,np.pi/2,np.pi])\n",
        "print(\"sine:\",np.sin(arr))\n",
        "print(\"cosine:\",np.cos(arr))\n",
        "print(\"square root:\",np.sqrt([1,4,9]))\n",
        "print(\"exponential:\",np.exp([1,2]))\n",
        "print(\"logorithm:\",np.log([1,np.e,np.e**2]))"
      ],
      "metadata": {
        "colab": {
          "base_uri": "https://localhost:8080/"
        },
        "id": "J9FhW6d6QL77",
        "outputId": "ad0db7f9-11c4-4653-d998-94a148cfe6ff"
      },
      "execution_count": 78,
      "outputs": [
        {
          "output_type": "stream",
          "name": "stdout",
          "text": [
            "sine: [0.0000000e+00 1.0000000e+00 1.2246468e-16]\n",
            "cosine: [ 1.000000e+00  6.123234e-17 -1.000000e+00]\n",
            "square root: [1. 2. 3.]\n",
            "exponential: [2.71828183 7.3890561 ]\n",
            "logorithm: [0. 1. 2.]\n"
          ]
        }
      ]
    },
    {
      "cell_type": "markdown",
      "source": [
        "Aggregate Functions"
      ],
      "metadata": {
        "id": "zs31rCmcRJMj"
      }
    },
    {
      "cell_type": "code",
      "source": [
        "\n",
        "arr=np.array([[1,2,3],[4,5,6]])\n",
        "print(\"sum:\",np.sum(arr))\n",
        "print(\"min:\",np.min(arr))\n",
        "print(\"max:\",np.max(arr))\n",
        "print(\"mean:\",np.mean(arr))\n",
        "print(\"median:\",np.median(arr))\n",
        "print(\"standard deviation:\",np.std(arr))\n",
        "print(\"sum of axis 0:\",np.sum(arr,axis=0))\n",
        "print(\"sum of axis 1:\",np.sum(arr,axis=1))"
      ],
      "metadata": {
        "colab": {
          "base_uri": "https://localhost:8080/"
        },
        "id": "xvRYPeK1Renn",
        "outputId": "bd1f8bf6-69b2-4db8-f4ff-8cae325ed82a"
      },
      "execution_count": 79,
      "outputs": [
        {
          "output_type": "stream",
          "name": "stdout",
          "text": [
            "sum: 21\n",
            "min: 1\n",
            "max: 6\n",
            "mean: 3.5\n",
            "median: 3.5\n",
            "standard deviation: 1.707825127659933\n",
            "sum of axis 0: [5 7 9]\n",
            "sum of axis 1: [ 6 15]\n"
          ]
        }
      ]
    },
    {
      "cell_type": "markdown",
      "source": [
        "Broadcasting"
      ],
      "metadata": {
        "id": "XHnjrhehS67y"
      }
    },
    {
      "cell_type": "code",
      "source": [
        "a=np.array([1,2,3])\n",
        "b=5\n",
        "print(\"add scalar to array:\",a+b)\n",
        "c=np.array([[1],[2],[3]])\n",
        "d=np.array([4,5,6])\n",
        "print(\"broadcasted sum:\\n\",c+d)"
      ],
      "metadata": {
        "colab": {
          "base_uri": "https://localhost:8080/"
        },
        "id": "i_MfmXfeS8_N",
        "outputId": "03718bcc-2136-4072-cd5b-7a6379461907"
      },
      "execution_count": 80,
      "outputs": [
        {
          "output_type": "stream",
          "name": "stdout",
          "text": [
            "add scalar to array: [6 7 8]\n",
            "broadcasted sum:\n",
            " [[5 6 7]\n",
            " [6 7 8]\n",
            " [7 8 9]]\n"
          ]
        }
      ]
    },
    {
      "cell_type": "markdown",
      "source": [
        "Matrix Operations"
      ],
      "metadata": {
        "id": "lpLpv-BZU9BX"
      }
    },
    {
      "cell_type": "code",
      "source": [
        "A=np.array([[1,2],[3,4]])\n",
        "B=np.array([[5,6],[7,8]])\n",
        "print(\"Mtarix Multiplication:\\n\",np.dot(A,B))\n",
        "print(\"Transpose:\\n\",A.T)\n",
        "print(\"Inverse:\\n\",np.linalg.inv(A))\n",
        "print(\"Determinant:\",np.linalg.det(A))"
      ],
      "metadata": {
        "colab": {
          "base_uri": "https://localhost:8080/"
        },
        "id": "UiJdqPhgU_tH",
        "outputId": "953f00ef-9b4d-4804-cd04-f2cb2bfb7857"
      },
      "execution_count": 82,
      "outputs": [
        {
          "output_type": "stream",
          "name": "stdout",
          "text": [
            "Mtarix Multiplication:\n",
            " [[19 22]\n",
            " [43 50]]\n",
            "Transpose:\n",
            " [[1 3]\n",
            " [2 4]]\n",
            "Inverse:\n",
            " [[-2.   1. ]\n",
            " [ 1.5 -0.5]]\n",
            "Determinant: -2.0000000000000004\n"
          ]
        }
      ]
    },
    {
      "cell_type": "code",
      "source": [
        "import numpy as np\n",
        "\n",
        "marks = np.array([\n",
        "[85, 90, 88],\n",
        "[78, 81, 85],\n",
        "[92, 89, 95]\n",
        "])\n",
        "print(\"Average marks per student:\", np.mean(marks, axis=1))\n",
        "print(\"Average marks per subject:\", np.mean(marks, axis=0))\n",
        "print(\"Highest marks in each subject:\", np.max(marks, axis=0))\n",
        "print(\"Lowest marks in each subject:\", np.min(marks, axis=0))"
      ],
      "metadata": {
        "colab": {
          "base_uri": "https://localhost:8080/"
        },
        "id": "m2YAoANcYb_Q",
        "outputId": "44960f21-e80c-497b-b62f-25edda2c6f16"
      },
      "execution_count": 85,
      "outputs": [
        {
          "output_type": "stream",
          "name": "stdout",
          "text": [
            "Average marks per student: [87.66666667 81.33333333 92.        ]\n",
            "Average marks per subject: [85.         86.66666667 89.33333333]\n",
            "Highest marks in each subject: [92 90 95]\n",
            "Lowest marks in each subject: [78 81 85]\n"
          ]
        }
      ]
    }
  ]
}