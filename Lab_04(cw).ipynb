{
  "nbformat": 4,
  "nbformat_minor": 0,
  "metadata": {
    "colab": {
      "provenance": [],
      "authorship_tag": "ABX9TyNueq95IUXqAkCLo2r99IRp",
      "include_colab_link": true
    },
    "kernelspec": {
      "name": "python3",
      "display_name": "Python 3"
    },
    "language_info": {
      "name": "python"
    }
  },
  "cells": [
    {
      "cell_type": "markdown",
      "metadata": {
        "id": "view-in-github",
        "colab_type": "text"
      },
      "source": [
        "<a href=\"https://colab.research.google.com/github/2303A51680/b23_1680/blob/main/Lab_04(cw).ipynb\" target=\"_parent\"><img src=\"https://colab.research.google.com/assets/colab-badge.svg\" alt=\"Open In Colab\"/></a>"
      ]
    },
    {
      "cell_type": "code",
      "execution_count": 1,
      "metadata": {
        "colab": {
          "base_uri": "https://localhost:8080/"
        },
        "id": "vGneOu79b1Oj",
        "outputId": "47e075a1-5f92-4da8-f983-525ec075ea79"
      },
      "outputs": [
        {
          "output_type": "stream",
          "name": "stdout",
          "text": [
            "Pandas Series\n",
            "0    10\n",
            "1    20\n",
            "2    30\n",
            "3    40\n",
            "4    50\n",
            "dtype: int64\n"
          ]
        }
      ],
      "source": [
        "import pandas as pd\n",
        "data=[10,20,30,40,50]\n",
        "series=pd.Series(data)\n",
        "print(\"Pandas Series\")\n",
        "print(series)"
      ]
    },
    {
      "cell_type": "markdown",
      "source": [
        "series with custom index"
      ],
      "metadata": {
        "id": "iMw6lj7Wb7PU"
      }
    },
    {
      "cell_type": "code",
      "source": [
        "import pandas as pd\n",
        "data=[10,20,30,40,50]\n",
        "index_labels=['a','b','c','d','e']\n",
        "series=pd.Series(data,index=index_labels)\n",
        "print(\"Pandas Series\")\n",
        "print(series)"
      ],
      "metadata": {
        "colab": {
          "base_uri": "https://localhost:8080/"
        },
        "id": "JK6NhCS5b-A8",
        "outputId": "20f20f9b-c3f5-4176-bdf7-8914bff58f1e"
      },
      "execution_count": 2,
      "outputs": [
        {
          "output_type": "stream",
          "name": "stdout",
          "text": [
            "Pandas Series\n",
            "a    10\n",
            "b    20\n",
            "c    30\n",
            "d    40\n",
            "e    50\n",
            "dtype: int64\n"
          ]
        }
      ]
    },
    {
      "cell_type": "markdown",
      "source": [
        "creating a dataframe"
      ],
      "metadata": {
        "id": "p03qSSpccBtM"
      }
    },
    {
      "cell_type": "code",
      "source": [
        "import pandas as pd\n",
        "data={\n",
        "    'name':['alice','bob','charlie','david'],\n",
        "    'age':[25,30,35,40],\n",
        "    'city':['hyderabad','delhi','chennai','mumbai']\n",
        "}\n",
        "df=pd.DataFrame(data)\n",
        "print(df)\n",
        ""
      ],
      "metadata": {
        "colab": {
          "base_uri": "https://localhost:8080/"
        },
        "id": "u8sQ_wkucEU9",
        "outputId": "9568ff16-cab9-4091-ee95-06f82035cd96"
      },
      "execution_count": 3,
      "outputs": [
        {
          "output_type": "stream",
          "name": "stdout",
          "text": [
            "      name  age       city\n",
            "0    alice   25  hyderabad\n",
            "1      bob   30      delhi\n",
            "2  charlie   35    chennai\n",
            "3    david   40     mumbai\n"
          ]
        }
      ]
    },
    {
      "cell_type": "markdown",
      "source": [
        "basic dataframe operations a) accessing data"
      ],
      "metadata": {
        "id": "NqLLOHeCcSry"
      }
    },
    {
      "cell_type": "code",
      "source": [
        "print(df['name'])\n",
        "print(df[['name','city']])\n",
        "print(df.iloc[1])\n",
        "print(df.loc[2])"
      ],
      "metadata": {
        "colab": {
          "base_uri": "https://localhost:8080/"
        },
        "id": "Hw17vhIccV-2",
        "outputId": "677d64b0-65d8-476c-c486-ebf449893712"
      },
      "execution_count": 4,
      "outputs": [
        {
          "output_type": "stream",
          "name": "stdout",
          "text": [
            "0      alice\n",
            "1        bob\n",
            "2    charlie\n",
            "3      david\n",
            "Name: name, dtype: object\n",
            "      name       city\n",
            "0    alice  hyderabad\n",
            "1      bob      delhi\n",
            "2  charlie    chennai\n",
            "3    david     mumbai\n",
            "name      bob\n",
            "age        30\n",
            "city    delhi\n",
            "Name: 1, dtype: object\n",
            "name    charlie\n",
            "age          35\n",
            "city    chennai\n",
            "Name: 2, dtype: object\n"
          ]
        }
      ]
    },
    {
      "cell_type": "markdown",
      "source": [
        "b) adding a new column"
      ],
      "metadata": {
        "id": "0lXLDxKYcbOp"
      }
    },
    {
      "cell_type": "code",
      "source": [
        "df['salary']=[40000,50000,60000,70000]\n",
        "print(df)"
      ],
      "metadata": {
        "colab": {
          "base_uri": "https://localhost:8080/"
        },
        "id": "XaoDcfNxcfzZ",
        "outputId": "f29bef23-dfc7-4be4-8b10-d6e9b785ed08"
      },
      "execution_count": 5,
      "outputs": [
        {
          "output_type": "stream",
          "name": "stdout",
          "text": [
            "      name  age       city  salary\n",
            "0    alice   25  hyderabad   40000\n",
            "1      bob   30      delhi   50000\n",
            "2  charlie   35    chennai   60000\n",
            "3    david   40     mumbai   70000\n"
          ]
        }
      ]
    },
    {
      "cell_type": "markdown",
      "source": [
        "removing a column"
      ],
      "metadata": {
        "id": "uz11NLQvci7O"
      }
    },
    {
      "cell_type": "code",
      "source": [
        "df=df.drop('city',axis=1)\n",
        "print(df)"
      ],
      "metadata": {
        "colab": {
          "base_uri": "https://localhost:8080/"
        },
        "id": "AQyaLaN7cktr",
        "outputId": "a1b5dda2-b674-404d-e632-622415c39782"
      },
      "execution_count": 6,
      "outputs": [
        {
          "output_type": "stream",
          "name": "stdout",
          "text": [
            "      name  age  salary\n",
            "0    alice   25   40000\n",
            "1      bob   30   50000\n",
            "2  charlie   35   60000\n",
            "3    david   40   70000\n"
          ]
        }
      ]
    },
    {
      "cell_type": "markdown",
      "source": [
        "d) filtering data"
      ],
      "metadata": {
        "id": "WREYIlAHcm2k"
      }
    },
    {
      "cell_type": "code",
      "source": [
        "print(df[df['age']>30])"
      ],
      "metadata": {
        "colab": {
          "base_uri": "https://localhost:8080/"
        },
        "id": "X6146cLycpwR",
        "outputId": "5af6817c-53f4-4e53-d63e-d935cb8ae433"
      },
      "execution_count": 7,
      "outputs": [
        {
          "output_type": "stream",
          "name": "stdout",
          "text": [
            "      name  age  salary\n",
            "2  charlie   35   60000\n",
            "3    david   40   70000\n"
          ]
        }
      ]
    },
    {
      "cell_type": "markdown",
      "source": [
        "e) basic statistics"
      ],
      "metadata": {
        "id": "_9weax8NcsHP"
      }
    },
    {
      "cell_type": "code",
      "source": [
        "print(df['age'].mean())\n",
        "print(df['age'].max())\n",
        "print(df['age'].min())\n",
        ""
      ],
      "metadata": {
        "colab": {
          "base_uri": "https://localhost:8080/"
        },
        "id": "W9Hkgc8wcuAb",
        "outputId": "6fa48c62-0a72-4b11-df7f-860f71bcd05f"
      },
      "execution_count": 8,
      "outputs": [
        {
          "output_type": "stream",
          "name": "stdout",
          "text": [
            "32.5\n",
            "40\n",
            "25\n"
          ]
        }
      ]
    },
    {
      "cell_type": "markdown",
      "source": [
        "real world examples: student data"
      ],
      "metadata": {
        "id": "H_Px-6CLc4wE"
      }
    },
    {
      "cell_type": "code",
      "source": [
        "import pandas as pd\n",
        "Student_data={\n",
        "    'Student_ID':[101,102,103,104,],\n",
        "    'Name':['jaya','pooji','likki','vaibha'],\n",
        "    'Marks':[28,23,9,26],\n",
        "    'Department':['CSE','ECE','MECH','EEE']\n",
        "}\n",
        "df=pd.DataFrame(Student_data)\n",
        "print(\"Student Data\")\n",
        "print(df)"
      ],
      "metadata": {
        "colab": {
          "base_uri": "https://localhost:8080/"
        },
        "id": "jO7RZBfzdF43",
        "outputId": "81ace21a-a30f-4b6c-8472-84309aceba45"
      },
      "execution_count": 9,
      "outputs": [
        {
          "output_type": "stream",
          "name": "stdout",
          "text": [
            "Student Data\n",
            "   Student_ID    Name  Marks Department\n",
            "0         101    jaya     28        CSE\n",
            "1         102   pooji     23        ECE\n",
            "2         103   likki      9       MECH\n",
            "3         104  vaibha     26        EEE\n"
          ]
        }
      ]
    },
    {
      "cell_type": "code",
      "source": [
        "print(\"\\nStudent with Marks>20:\")\n",
        "print(df[df[\"Marks\"]>20])"
      ],
      "metadata": {
        "colab": {
          "base_uri": "https://localhost:8080/"
        },
        "id": "jbuMtioKdUce",
        "outputId": "949c1ffa-886a-4932-bd2c-d860d44233d1"
      },
      "execution_count": 10,
      "outputs": [
        {
          "output_type": "stream",
          "name": "stdout",
          "text": [
            "\n",
            "Student with Marks>20:\n",
            "   Student_ID    Name  Marks Department\n",
            "0         101    jaya     28        CSE\n",
            "1         102   pooji     23        ECE\n",
            "3         104  vaibha     26        EEE\n"
          ]
        }
      ]
    },
    {
      "cell_type": "code",
      "source": [
        "print(\"\\nAverage Marks:\",df['Marks'].mean())"
      ],
      "metadata": {
        "colab": {
          "base_uri": "https://localhost:8080/"
        },
        "id": "HdwNQ42EdXZW",
        "outputId": "c4096029-bb67-4af5-e7da-db547c447821"
      },
      "execution_count": 11,
      "outputs": [
        {
          "output_type": "stream",
          "name": "stdout",
          "text": [
            "\n",
            "Average Marks: 21.5\n"
          ]
        }
      ]
    },
    {
      "cell_type": "code",
      "source": [
        "df['Result']=['pass'if x>20 else 'fail' for x in df['Marks']]\n",
        "print(\"\\nStudent Result column:\")\n",
        "print(df)"
      ],
      "metadata": {
        "colab": {
          "base_uri": "https://localhost:8080/"
        },
        "id": "MOa6oOSNda-B",
        "outputId": "1e6360bf-721b-48dc-95b2-4da95a0fd330"
      },
      "execution_count": 12,
      "outputs": [
        {
          "output_type": "stream",
          "name": "stdout",
          "text": [
            "\n",
            "Student Result column:\n",
            "   Student_ID    Name  Marks Department Result\n",
            "0         101    jaya     28        CSE   pass\n",
            "1         102   pooji     23        ECE   pass\n",
            "2         103   likki      9       MECH   fail\n",
            "3         104  vaibha     26        EEE   pass\n"
          ]
        }
      ]
    }
  ]
}