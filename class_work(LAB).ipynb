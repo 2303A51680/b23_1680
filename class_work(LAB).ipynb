{
  "nbformat": 4,
  "nbformat_minor": 0,
  "metadata": {
    "colab": {
      "provenance": [],
      "authorship_tag": "ABX9TyOQEwC6XTN2c3TqyhePwTkT",
      "include_colab_link": true
    },
    "kernelspec": {
      "name": "python3",
      "display_name": "Python 3"
    },
    "language_info": {
      "name": "python"
    }
  },
  "cells": [
    {
      "cell_type": "markdown",
      "metadata": {
        "id": "view-in-github",
        "colab_type": "text"
      },
      "source": [
        "<a href=\"https://colab.research.google.com/github/2303A51680/b23_1680/blob/main/class_work(LAB).ipynb\" target=\"_parent\"><img src=\"https://colab.research.google.com/assets/colab-badge.svg\" alt=\"Open In Colab\"/></a>"
      ]
    },
    {
      "cell_type": "code",
      "execution_count": 1,
      "metadata": {
        "id": "V48nj9h8vF4E",
        "colab": {
          "base_uri": "https://localhost:8080/"
        },
        "outputId": "0846c238-4caf-44c6-e49b-1a1e77bdee01"
      },
      "outputs": [
        {
          "output_type": "stream",
          "name": "stdout",
          "text": [
            "[9, 16, 26, 45, 56, 92]\n",
            "[92, 56, 45, 26, 16, 9]\n",
            "244\n",
            "9\n",
            "92\n"
          ]
        }
      ],
      "source": [
        "l=[9,26,92,56,45,16]\n",
        "l.sort()\n",
        "print(l)\n",
        "l.reverse()\n",
        "print(l)\n",
        "print(sum(l))\n",
        "print(min(l))\n",
        "print(max(l))"
      ]
    },
    {
      "cell_type": "markdown",
      "source": [
        "searching the element"
      ],
      "metadata": {
        "id": "vTLDipLm3W1v"
      }
    },
    {
      "cell_type": "code",
      "source": [
        "l=[10,20,30,40]\n",
        "print(l)\n",
        "if 20 in l:\n",
        "  print(\"found\")\n",
        "else:\n",
        "    print(\"Not founr\")"
      ],
      "metadata": {
        "colab": {
          "base_uri": "https://localhost:8080/"
        },
        "id": "nEdG8D3417qx",
        "outputId": "083c4277-a24b-4fc3-9dfe-054f7522e3b6"
      },
      "execution_count": 2,
      "outputs": [
        {
          "output_type": "stream",
          "name": "stdout",
          "text": [
            "[10, 20, 30, 40]\n",
            "found\n"
          ]
        }
      ]
    },
    {
      "cell_type": "code",
      "source": [
        "l=[10,99.9,\"CSE\"]\n",
        "for i in l:\n",
        "  print(type(i),i)"
      ],
      "metadata": {
        "colab": {
          "base_uri": "https://localhost:8080/"
        },
        "id": "5X4X_cQa2SFY",
        "outputId": "32c6abb1-c262-4692-b145-98dbd1000d7a"
      },
      "execution_count": 3,
      "outputs": [
        {
          "output_type": "stream",
          "name": "stdout",
          "text": [
            "<class 'int'> 10\n",
            "<class 'float'> 99.9\n",
            "<class 'str'> CSE\n"
          ]
        }
      ]
    },
    {
      "cell_type": "code",
      "source": [
        "l=[10,20,30,40]\n",
        "l.append(50)\n",
        "print(l)\n",
        "l.remove(30)\n",
        "print(l)\n",
        "l.insert(2,25)\n",
        "print(l)\n",
        "l.pop()"
      ],
      "metadata": {
        "colab": {
          "base_uri": "https://localhost:8080/"
        },
        "id": "6OnKSzjZ2fef",
        "outputId": "6bd06a48-1231-456a-a202-38fad0e7b41b"
      },
      "execution_count": 4,
      "outputs": [
        {
          "output_type": "stream",
          "name": "stdout",
          "text": [
            "[10, 20, 30, 40, 50]\n",
            "[10, 20, 40, 50]\n",
            "[10, 20, 25, 40, 50]\n"
          ]
        },
        {
          "output_type": "execute_result",
          "data": {
            "text/plain": [
              "50"
            ]
          },
          "metadata": {},
          "execution_count": 4
        }
      ]
    },
    {
      "cell_type": "markdown",
      "source": [
        "Nested List"
      ],
      "metadata": {
        "id": "f_76RsAN59sp"
      }
    },
    {
      "cell_type": "code",
      "source": [
        "student=[[10,20],[30,40],[50,60],[70,80],[90,100]]\n",
        "print(student)"
      ],
      "metadata": {
        "colab": {
          "base_uri": "https://localhost:8080/"
        },
        "id": "j-TaxvUN4B1t",
        "outputId": "dff57b42-b940-4aa6-f0b4-832e7c1a7830"
      },
      "execution_count": 5,
      "outputs": [
        {
          "output_type": "stream",
          "name": "stdout",
          "text": [
            "[[10, 20], [30, 40], [50, 60], [70, 80], [90, 100]]\n"
          ]
        }
      ]
    },
    {
      "cell_type": "markdown",
      "source": [
        "Tuple"
      ],
      "metadata": {
        "id": "kT_OFFZp6Znj"
      }
    },
    {
      "cell_type": "code",
      "source": [
        "t=[10,20,30,40]\n",
        "print(t)\n",
        "t=[10,20,30,10,20]\n",
        "print(t)\n",
        "t=(10,99.9,\"CSE\")\n",
        "for i in t:\n",
        "  print(type(i),i)\n",
        "\n",
        "\n",
        "\n",
        "\n"
      ],
      "metadata": {
        "colab": {
          "base_uri": "https://localhost:8080/"
        },
        "id": "jQPISRxJ6Ams",
        "outputId": "3e712a5a-09fd-4ee9-a6e1-fa2288e83ba3"
      },
      "execution_count": 8,
      "outputs": [
        {
          "output_type": "stream",
          "name": "stdout",
          "text": [
            "[10, 20, 30, 40]\n",
            "[10, 20, 30, 10, 20]\n",
            "<class 'int'> 10\n",
            "<class 'float'> 99.9\n",
            "<class 'str'> CSE\n"
          ]
        }
      ]
    },
    {
      "cell_type": "code",
      "source": [
        "if 20 in t:\n",
        "  print(\"found\")\n",
        "else:\n",
        "    print(\"Not found\")"
      ],
      "metadata": {
        "colab": {
          "base_uri": "https://localhost:8080/"
        },
        "id": "xv-ze16a8K0p",
        "outputId": "fdcda42d-adc4-43e4-85aa-d273afae378e"
      },
      "execution_count": 9,
      "outputs": [
        {
          "output_type": "stream",
          "name": "stdout",
          "text": [
            "Not found\n"
          ]
        }
      ]
    },
    {
      "cell_type": "code",
      "source": [
        "t=[1,2,3,2,3,4]\n",
        "print(t.count(2))\n",
        "print(t.index(4))"
      ],
      "metadata": {
        "colab": {
          "base_uri": "https://localhost:8080/"
        },
        "id": "kIUSUrhD8fqM",
        "outputId": "4b1f8406-6e91-4232-84f0-e2596b14dd3a"
      },
      "execution_count": 10,
      "outputs": [
        {
          "output_type": "stream",
          "name": "stdout",
          "text": [
            "2\n",
            "5\n"
          ]
        }
      ]
    },
    {
      "cell_type": "code",
      "source": [
        "l=[10,20,30,40]\n",
        "mytuple=tuple(l)\n",
        "print(mytuple)\n",
        "\n",
        "\n"
      ],
      "metadata": {
        "colab": {
          "base_uri": "https://localhost:8080/"
        },
        "id": "cG22Uy029IBx",
        "outputId": "a2ef4be3-dc46-492c-aaa4-94d7e9602418"
      },
      "execution_count": 13,
      "outputs": [
        {
          "output_type": "stream",
          "name": "stdout",
          "text": [
            "(10, 20, 30, 40)\n"
          ]
        }
      ]
    },
    {
      "cell_type": "markdown",
      "source": [
        "Dictionary"
      ],
      "metadata": {
        "id": "cu9vQqjVCNFu"
      }
    },
    {
      "cell_type": "code",
      "source": [
        "student={\"name\":\"python\",\"id\":\"101\",\"branch\":\"cse\"}\n",
        "print(student.keys())\n",
        "print(student.values())\n",
        "print(student.items())"
      ],
      "metadata": {
        "colab": {
          "base_uri": "https://localhost:8080/"
        },
        "id": "oxTztNzg91kt",
        "outputId": "063fd22a-c91e-4150-c34a-4919f53b2d26"
      },
      "execution_count": 14,
      "outputs": [
        {
          "output_type": "stream",
          "name": "stdout",
          "text": [
            "dict_keys(['name', 'id', 'branch'])\n",
            "dict_values(['python', '101', 'cse'])\n",
            "dict_items([('name', 'python'), ('id', '101'), ('branch', 'cse')])\n"
          ]
        }
      ]
    },
    {
      "cell_type": "markdown",
      "source": [
        "for loop"
      ],
      "metadata": {
        "id": "6Trb2kKrCQY6"
      }
    },
    {
      "cell_type": "code",
      "source": [
        "student={\"name\":\"python\",\"id\":\"101\",\"branch\":\"cse\"}\n",
        "\n",
        "for key,value in student.items():\n",
        "  print(key,value)\n",
        "\n",
        "\n",
        ""
      ],
      "metadata": {
        "colab": {
          "base_uri": "https://localhost:8080/"
        },
        "id": "gjRy3CqXCOxB",
        "outputId": "55306d15-fd24-407d-b090-935e3047b287"
      },
      "execution_count": 19,
      "outputs": [
        {
          "output_type": "stream",
          "name": "stdout",
          "text": [
            "name python\n",
            "id 101\n",
            "branch cse\n"
          ]
        }
      ]
    },
    {
      "cell_type": "markdown",
      "source": [
        "insertion"
      ],
      "metadata": {
        "id": "MLoMZ8IcC-DC"
      }
    },
    {
      "cell_type": "code",
      "source": [
        "student[\"college\"]=\"SRU\"\n",
        "print(student)"
      ],
      "metadata": {
        "colab": {
          "base_uri": "https://localhost:8080/"
        },
        "id": "Z5on0Ii5C_nd",
        "outputId": "99baa4c5-5e68-4dab-c6df-818906da7845"
      },
      "execution_count": 20,
      "outputs": [
        {
          "output_type": "stream",
          "name": "stdout",
          "text": [
            "{'name': 'python', 'id': '101', 'branch': 'cse', 'college': 'SRU'}\n"
          ]
        }
      ]
    },
    {
      "cell_type": "markdown",
      "source": [
        "deletion"
      ],
      "metadata": {
        "id": "R-FGL73WDUog"
      }
    },
    {
      "cell_type": "code",
      "source": [
        "student[\"branch\"]=\"AIML\"\n",
        "del student[\"id\"]"
      ],
      "metadata": {
        "id": "IZuUtB9nDS3o"
      },
      "execution_count": 21,
      "outputs": []
    },
    {
      "cell_type": "markdown",
      "source": [
        "searching"
      ],
      "metadata": {
        "id": "wSbWJVeZDgJ1"
      }
    },
    {
      "cell_type": "code",
      "source": [
        "if\"name\" in student:\n",
        "  print(\"found\")\n",
        "else:\n",
        "    print(\"Not found\")"
      ],
      "metadata": {
        "colab": {
          "base_uri": "https://localhost:8080/"
        },
        "id": "PCu8wzt9Dh1Q",
        "outputId": "eb18cf3b-b92c-4ae7-8448-9c8bd682ebdf"
      },
      "execution_count": 22,
      "outputs": [
        {
          "output_type": "stream",
          "name": "stdout",
          "text": [
            "found\n"
          ]
        }
      ]
    },
    {
      "cell_type": "markdown",
      "source": [
        "Nested Dictionary"
      ],
      "metadata": {
        "id": "KY0-qbepEIk1"
      }
    },
    {
      "cell_type": "code",
      "source": [
        "student={\"101\":{\"name\":\"c\",\"id\":\"1\"},\"102\":{\"name\":\"python\",\"id\":\"2\"}}\n",
        "print(student[\"102\"][\"name\"])"
      ],
      "metadata": {
        "colab": {
          "base_uri": "https://localhost:8080/"
        },
        "id": "dCG2JWecELDh",
        "outputId": "5df66882-e7f2-4368-e0cf-4b024cb070d7"
      },
      "execution_count": 23,
      "outputs": [
        {
          "output_type": "stream",
          "name": "stdout",
          "text": [
            "python\n"
          ]
        }
      ]
    },
    {
      "cell_type": "markdown",
      "source": [
        "set"
      ],
      "metadata": {
        "id": "qRDKpPaIHD6o"
      }
    },
    {
      "cell_type": "code",
      "source": [
        "s={1,2,3,4}\n",
        "print(s)\n"
      ],
      "metadata": {
        "colab": {
          "base_uri": "https://localhost:8080/"
        },
        "id": "Xx5LJfSLEsS4",
        "outputId": "281b6b45-b0fc-4a8e-98c2-2dbf92febd9c"
      },
      "execution_count": 24,
      "outputs": [
        {
          "output_type": "stream",
          "name": "stdout",
          "text": [
            "{1, 2, 3, 4}\n"
          ]
        }
      ]
    },
    {
      "cell_type": "code",
      "source": [
        "s={1,2,3,2,3,2}\n",
        "print(s)"
      ],
      "metadata": {
        "colab": {
          "base_uri": "https://localhost:8080/"
        },
        "id": "HfHOCwswHO9I",
        "outputId": "a1878189-78e8-4404-8536-aa7e988a6da5"
      },
      "execution_count": 25,
      "outputs": [
        {
          "output_type": "stream",
          "name": "stdout",
          "text": [
            "{1, 2, 3}\n"
          ]
        }
      ]
    },
    {
      "cell_type": "code",
      "source": [
        "for i in s:\n",
        "  print(i)\n"
      ],
      "metadata": {
        "colab": {
          "base_uri": "https://localhost:8080/"
        },
        "id": "TmzL4etCHYXE",
        "outputId": "5bce6e80-d4b4-44f7-ba87-01785f9ab80f"
      },
      "execution_count": 26,
      "outputs": [
        {
          "output_type": "stream",
          "name": "stdout",
          "text": [
            "1\n",
            "2\n",
            "3\n"
          ]
        }
      ]
    },
    {
      "cell_type": "code",
      "source": [
        "if 2 in s:\n",
        "  print(\"found\")\n",
        "else:\n",
        "    print(\"not found\")"
      ],
      "metadata": {
        "colab": {
          "base_uri": "https://localhost:8080/"
        },
        "id": "Sk0T9bQMHhiv",
        "outputId": "611180a8-25dc-4840-811d-564063280d84"
      },
      "execution_count": 27,
      "outputs": [
        {
          "output_type": "stream",
          "name": "stdout",
          "text": [
            "found\n"
          ]
        }
      ]
    },
    {
      "cell_type": "code",
      "source": [
        "A={1,2,3}\n",
        "B={3,4,5}\n",
        "print(\"union\",A|B)\n",
        "print(\"intersection\",A&B)\n",
        "print(\"difference\",A-B)\n",
        "print(\"symmetric difference\",A^B)"
      ],
      "metadata": {
        "colab": {
          "base_uri": "https://localhost:8080/"
        },
        "id": "ncWwppuZHuq4",
        "outputId": "449df02a-e606-4d89-823f-33e55033425f"
      },
      "execution_count": 31,
      "outputs": [
        {
          "output_type": "stream",
          "name": "stdout",
          "text": [
            "union {1, 2, 3, 4, 5}\n",
            "intersection {3}\n",
            "difference {1, 2}\n",
            "symmetric difference {1, 2, 4, 5}\n"
          ]
        }
      ]
    },
    {
      "cell_type": "code",
      "source": [
        "s={1,2,3}\n",
        "s.add(4)\n",
        "print(s)\n",
        "s.remove(2)\n",
        "print(s)\n",
        "s.clear()\n",
        "print(s)"
      ],
      "metadata": {
        "colab": {
          "base_uri": "https://localhost:8080/"
        },
        "id": "Y-7mUIT7IhEp",
        "outputId": "513e5fd2-0646-47a8-cca9-71fb1f0714a6"
      },
      "execution_count": 30,
      "outputs": [
        {
          "output_type": "stream",
          "name": "stdout",
          "text": [
            "{1, 2, 3, 4}\n",
            "{1, 3, 4}\n",
            "set()\n"
          ]
        }
      ]
    }
  ]
}